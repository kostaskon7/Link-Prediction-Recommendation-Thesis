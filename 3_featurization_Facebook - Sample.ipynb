{
 "cells": [
  {
   "cell_type": "code",
   "execution_count": 1,
   "id": "8a37ae8a",
   "metadata": {
    "executionInfo": {
     "elapsed": 1438,
     "status": "ok",
     "timestamp": 1651338412417,
     "user": {
      "displayName": "Κώστας Κωνσταντινίδης",
      "userId": "06341401238786212518"
     },
     "user_tz": -180
    },
    "id": "8a37ae8a"
   },
   "outputs": [],
   "source": [
    "#Importing Libraries\n",
    "# please do go through this python notebook: \n",
    "import warnings\n",
    "warnings.filterwarnings(\"ignore\")\n",
    "\n",
    "import csv\n",
    "import pandas as pd#pandas to create small dataframes \n",
    "import datetime #Convert to unix time\n",
    "import time #Convert to unix time\n",
    "# if numpy is not installed already : pip3 install numpy\n",
    "import numpy as np#Do aritmetic operations on arrays\n",
    "# matplotlib: used to plot graphs\n",
    "import matplotlib\n",
    "import matplotlib.pylab as plt\n",
    "import seaborn as sns#Plots\n",
    "from matplotlib import rcParams#Size of plots  \n",
    "from sklearn.cluster import MiniBatchKMeans, KMeans#Clustering\n",
    "import math\n",
    "import pickle\n",
    "import os\n",
    "# to install xgboost: pip3 install xgboost\n",
    "import xgboost as xgb\n",
    "\n",
    "import warnings\n",
    "import networkx as nx\n",
    "import pdb\n",
    "import pickle\n",
    "from pandas import HDFStore,DataFrame\n",
    "from pandas import read_hdf\n",
    "from scipy.sparse.linalg import svds, eigs\n",
    "import gc\n",
    "from tqdm import tqdm"
   ]
  },
  {
   "cell_type": "markdown",
   "id": "9a4191ef",
   "metadata": {
    "id": "9a4191ef"
   },
   "source": [
    "# Reading Data"
   ]
  },
  {
   "cell_type": "code",
   "execution_count": 2,
   "id": "172241aa",
   "metadata": {
    "colab": {
     "base_uri": "https://localhost:8080/"
    },
    "executionInfo": {
     "elapsed": 99452,
     "status": "ok",
     "timestamp": 1651338511866,
     "user": {
      "displayName": "Κώστας Κωνσταντινίδης",
      "userId": "06341401238786212518"
     },
     "user_tz": -180
    },
    "id": "172241aa",
    "outputId": "f207e85e-5f2f-414b-8a6f-47f2d856460a"
   },
   "outputs": [
    {
     "name": "stdout",
     "output_type": "stream",
     "text": [
      "DiGraph with 1862220 nodes and 9437519 edges\n"
     ]
    }
   ],
   "source": [
    "train_graph=nx.read_edgelist('train.csv',delimiter=',',create_using=nx.DiGraph(),nodetype=int)\n",
    "print(nx.info(train_graph))"
   ]
  },
  {
   "cell_type": "markdown",
   "id": "bf729f22",
   "metadata": {
    "id": "bf729f22"
   },
   "source": [
    " # Similarity measures"
   ]
  },
  {
   "cell_type": "markdown",
   "id": "567aa4a1",
   "metadata": {
    "id": "567aa4a1"
   },
   "source": [
    "## Jaccard Distance:\n",
    "http://www.statisticshowto.com/jaccard-index/"
   ]
  },
  {
   "cell_type": "markdown",
   "id": "d9c1ec5e",
   "metadata": {
    "id": "d9c1ec5e"
   },
   "source": [
    "\\begin{equation}\n",
    "j = \\frac{|X\\cap Y|}{|X \\cup Y|} \n",
    "\\end{equation}"
   ]
  },
  {
   "cell_type": "code",
   "execution_count": 3,
   "id": "dbe4cdd2",
   "metadata": {
    "executionInfo": {
     "elapsed": 26,
     "status": "ok",
     "timestamp": 1651338511867,
     "user": {
      "displayName": "Κώστας Κωνσταντινίδης",
      "userId": "06341401238786212518"
     },
     "user_tz": -180
    },
    "id": "dbe4cdd2"
   },
   "outputs": [],
   "source": [
    "#for followees\n",
    "def jaccard_for_followees(a,b):\n",
    "    try:\n",
    "        if len(set(train_graph.successors(a))) == 0  | len(set(train_graph.successors(b))) == 0:\n",
    "            return 0\n",
    "        sim = (len(set(train_graph.successors(a)).intersection(set(train_graph.successors(b)))))/\\\n",
    "                                    (len(set(train_graph.successors(a)).union(set(train_graph.successors(b)))))\n",
    "    except:\n",
    "        return 0\n",
    "    return sim"
   ]
  },
  {
   "cell_type": "code",
   "execution_count": 4,
   "id": "f4ba5648",
   "metadata": {
    "executionInfo": {
     "elapsed": 17,
     "status": "ok",
     "timestamp": 1651338511868,
     "user": {
      "displayName": "Κώστας Κωνσταντινίδης",
      "userId": "06341401238786212518"
     },
     "user_tz": -180
    },
    "id": "f4ba5648"
   },
   "outputs": [],
   "source": [
    "#for followers\n",
    "def jaccard_for_followers(a,b):\n",
    "    try:\n",
    "        if len(set(train_graph.predecessors(a))) == 0  | len(set(g.predecessors(b))) == 0:\n",
    "            return 0\n",
    "        sim = (len(set(train_graph.predecessors(a)).intersection(set(train_graph.predecessors(b)))))/\\\n",
    "                                 (len(set(train_graph.predecessors(a)).union(set(train_graph.predecessors(b)))))\n",
    "        return sim\n",
    "    except:\n",
    "        return 0"
   ]
  },
  {
   "cell_type": "markdown",
   "id": "a76897d7",
   "metadata": {
    "id": "a76897d7"
   },
   "source": [
    "## Cosine distance"
   ]
  },
  {
   "cell_type": "markdown",
   "id": "ecec0940",
   "metadata": {
    "id": "ecec0940"
   },
   "source": [
    "\\begin{equation}\n",
    "CosineDistance = \\frac{|X\\cap Y|}{|X|\\cdot|Y|} \n",
    "\\end{equation}"
   ]
  },
  {
   "cell_type": "code",
   "execution_count": 5,
   "id": "4e14185f",
   "metadata": {
    "executionInfo": {
     "elapsed": 14,
     "status": "ok",
     "timestamp": 1651338511869,
     "user": {
      "displayName": "Κώστας Κωνσταντινίδης",
      "userId": "06341401238786212518"
     },
     "user_tz": -180
    },
    "id": "4e14185f"
   },
   "outputs": [],
   "source": [
    "#for followees\n",
    "def cosine_for_followees(a,b):\n",
    "    try:\n",
    "        if len(set(train_graph.successors(a))) == 0  | len(set(train_graph.successors(b))) == 0:\n",
    "            return 0\n",
    "        sim = (len(set(train_graph.successors(a)).intersection(set(train_graph.successors(b)))))/\\\n",
    "                                    (math.sqrt(len(set(train_graph.successors(a)))*len((set(train_graph.successors(b))))))\n",
    "        return sim\n",
    "    except:\n",
    "        return 0"
   ]
  },
  {
   "cell_type": "code",
   "execution_count": 6,
   "id": "80921990",
   "metadata": {
    "executionInfo": {
     "elapsed": 10,
     "status": "ok",
     "timestamp": 1651338511869,
     "user": {
      "displayName": "Κώστας Κωνσταντινίδης",
      "userId": "06341401238786212518"
     },
     "user_tz": -180
    },
    "id": "80921990"
   },
   "outputs": [],
   "source": [
    "def cosine_for_followers(a,b):\n",
    "    try:\n",
    "        \n",
    "        if len(set(train_graph.predecessors(a))) == 0  | len(set(train_graph.predecessors(b))) == 0:\n",
    "            return 0\n",
    "        sim = (len(set(train_graph.predecessors(a)).intersection(set(train_graph.predecessors(b)))))/\\\n",
    "                                     (math.sqrt(len(set(train_graph.predecessors(a))))*(len(set(train_graph.predecessors(b)))))\n",
    "        return sim\n",
    "    except:\n",
    "        return 0"
   ]
  },
  {
   "cell_type": "markdown",
   "id": "eecdaf8b",
   "metadata": {
    "id": "eecdaf8b"
   },
   "source": [
    "## Ranking Measures"
   ]
  },
  {
   "cell_type": "markdown",
   "id": "ef84fe6e",
   "metadata": {
    "id": "ef84fe6e"
   },
   "source": [
    "https://networkx.github.io/documentation/networkx-1.10/reference/generated/networkx.algorithms.link_analysis.pagerank_alg.pagerank.html\n",
    "\n",
    "PageRank computes a ranking of the nodes in the graph G based on the structure of the incoming links.\n",
    "\n",
    "\n",
    "Mathematical PageRanks for a simple network, expressed as percentages. (Google uses a logarithmic scale.) Page C has a higher PageRank than Page E, even though there are fewer links to C; the one link to C comes from an important page and hence is of high value. If web surfers who start on a random page have an 85% likelihood of choosing a random link from the page they are currently visiting, and a 15% likelihood of jumping to a page chosen at random from the entire web, they will reach Page E 8.1% of the time. <b>(The 15% likelihood of jumping to an arbitrary page corresponds to a damping factor of 85%.) Without damping, all web surfers would eventually end up on Pages A, B, or C, and all other pages would have PageRank zero. In the presence of damping, Page A effectively links to all pages in the web, even though it has no outgoing links of its own.</b>"
   ]
  },
  {
   "cell_type": "markdown",
   "id": "67a84b14",
   "metadata": {
    "id": "67a84b14"
   },
   "source": [
    "## Page Ranking\n",
    "\n",
    "https://en.wikipedia.org/wiki/PageRank\n",
    "\n"
   ]
  },
  {
   "cell_type": "code",
   "execution_count": 7,
   "id": "7cf8e57a",
   "metadata": {
    "executionInfo": {
     "elapsed": 591,
     "status": "ok",
     "timestamp": 1651338512454,
     "user": {
      "displayName": "Κώστας Κωνσταντινίδης",
      "userId": "06341401238786212518"
     },
     "user_tz": -180
    },
    "id": "7cf8e57a"
   },
   "outputs": [],
   "source": [
    "if not os.path.isfile('page_rank.p'):\n",
    "    pr = nx.pagerank(train_graph, alpha=0.85)\n",
    "    pickle.dump(pr,open('page_rank.p','wb'))\n",
    "else:\n",
    "    pr = pickle.load(open('page_rank.p','rb'))"
   ]
  },
  {
   "cell_type": "code",
   "execution_count": 8,
   "id": "ceda7ab9",
   "metadata": {
    "colab": {
     "base_uri": "https://localhost:8080/"
    },
    "executionInfo": {
     "elapsed": 1064,
     "status": "ok",
     "timestamp": 1651338513516,
     "user": {
      "displayName": "Κώστας Κωνσταντινίδης",
      "userId": "06341401238786212518"
     },
     "user_tz": -180
    },
    "id": "ceda7ab9",
    "outputId": "4480355b-3ef2-4793-a127-e09e42ae9f09"
   },
   "outputs": [
    {
     "name": "stdout",
     "output_type": "stream",
     "text": [
      "min 1.478340267341635e-07\n",
      "max 2.688578764999046e-05\n",
      "mean 5.369934808940616e-07\n"
     ]
    }
   ],
   "source": [
    "print('min',pr[min(pr, key=pr.get)])\n",
    "print('max',pr[max(pr, key=pr.get)])\n",
    "print('mean',float(sum(pr.values())) / len(pr))"
   ]
  },
  {
   "cell_type": "code",
   "execution_count": 9,
   "id": "cbd96e0a",
   "metadata": {
    "colab": {
     "base_uri": "https://localhost:8080/"
    },
    "executionInfo": {
     "elapsed": 10,
     "status": "ok",
     "timestamp": 1651338513516,
     "user": {
      "displayName": "Κώστας Κωνσταντινίδης",
      "userId": "06341401238786212518"
     },
     "user_tz": -180
    },
    "id": "cbd96e0a",
    "outputId": "66ffcc3c-bf0d-44f8-b33e-b47d0deba25d"
   },
   "outputs": [
    {
     "name": "stdout",
     "output_type": "stream",
     "text": [
      "5.369934808940616e-07\n"
     ]
    }
   ],
   "source": [
    "#for imputing to nodes which are not there in Train data\n",
    "mean_pr = float(sum(pr.values())) / len(pr)\n",
    "print(mean_pr)"
   ]
  },
  {
   "cell_type": "markdown",
   "id": "861defd7",
   "metadata": {
    "id": "861defd7"
   },
   "source": [
    "## Shortest path:"
   ]
  },
  {
   "cell_type": "code",
   "execution_count": 10,
   "id": "932149c9",
   "metadata": {
    "executionInfo": {
     "elapsed": 9,
     "status": "ok",
     "timestamp": 1651338513517,
     "user": {
      "displayName": "Κώστας Κωνσταντινίδης",
      "userId": "06341401238786212518"
     },
     "user_tz": -180
    },
    "id": "932149c9"
   },
   "outputs": [],
   "source": [
    "#if has direct edge then deleting that edge and calculating shortest path\n",
    "def compute_shortest_path_length(a,b):\n",
    "    p=-1\n",
    "    try:\n",
    "        if train_graph.has_edge(a,b):\n",
    "            train_graph.remove_edge(a,b)\n",
    "            p= nx.shortest_path_length(train_graph,source=a,target=b)\n",
    "            train_graph.add_edge(a,b)\n",
    "        else:\n",
    "            p= nx.shortest_path_length(train_graph,source=a,target=b)\n",
    "        return p\n",
    "    except:\n",
    "        return -1"
   ]
  },
  {
   "cell_type": "markdown",
   "id": "b0a630b5",
   "metadata": {
    "id": "b0a630b5"
   },
   "source": [
    "## Checking for same community"
   ]
  },
  {
   "cell_type": "code",
   "execution_count": 11,
   "id": "327702b3",
   "metadata": {
    "executionInfo": {
     "elapsed": 19366,
     "status": "ok",
     "timestamp": 1651338532879,
     "user": {
      "displayName": "Κώστας Κωνσταντινίδης",
      "userId": "06341401238786212518"
     },
     "user_tz": -180
    },
    "id": "327702b3"
   },
   "outputs": [],
   "source": [
    "#getting weekly connected edges from graph \n",
    "wcc=list(nx.weakly_connected_components(train_graph))\n",
    "def belongs_to_same_wcc(a,b):\n",
    "    index = []\n",
    "    if train_graph.has_edge(b,a):\n",
    "        return 1\n",
    "    if train_graph.has_edge(a,b):\n",
    "            for i in wcc:\n",
    "                if a in i:\n",
    "                    index= i\n",
    "                    break\n",
    "            if (b in index):\n",
    "                train_graph.remove_edge(a,b)\n",
    "                if compute_shortest_path_length(a,b)==-1:\n",
    "                    train_graph.add_edge(a,b)\n",
    "                    return 0\n",
    "                else:\n",
    "                    train_graph.add_edge(a,b)\n",
    "                    return 1\n",
    "            else:\n",
    "                return 0\n",
    "    else:\n",
    "            for i in wcc:\n",
    "                if a in i:\n",
    "                    index= i\n",
    "                    break\n",
    "            if(b in index):\n",
    "                return 1\n",
    "            else:\n",
    "                return 0"
   ]
  },
  {
   "cell_type": "markdown",
   "id": "bb1199cb",
   "metadata": {
    "id": "bb1199cb"
   },
   "source": [
    "## Adamic/Adar Index:\n",
    "Adamic/Adar measures is defined as inverted sum of degrees of common neighbours for given two vertices.\n",
    "$$A(x,y)=\\sum_{u \\in N(x) \\cap N(y)}\\frac{1}{log(|N(u)|)}$$\n",
    "\n",
    "X is considered the source and y the destination node, N(u) are the common neighbours of the two."
   ]
  },
  {
   "cell_type": "code",
   "execution_count": 12,
   "id": "2d763efe",
   "metadata": {
    "executionInfo": {
     "elapsed": 11,
     "status": "ok",
     "timestamp": 1651338532880,
     "user": {
      "displayName": "Κώστας Κωνσταντινίδης",
      "userId": "06341401238786212518"
     },
     "user_tz": -180
    },
    "id": "2d763efe"
   },
   "outputs": [],
   "source": [
    "#adar index\n",
    "def calc_adar_in(a,b):\n",
    "    sum=0\n",
    "    try:\n",
    "        n=list(set(train_graph.successors(a)).intersection(set(train_graph.successors(b))))\n",
    "        if len(n)!=0:\n",
    "            for i in n:\n",
    "                sum=sum+(1/np.log10(len(list(train_graph.predecessors(i)))))\n",
    "            return sum\n",
    "        else:\n",
    "            return 0\n",
    "    except:\n",
    "        return 0"
   ]
  },
  {
   "cell_type": "markdown",
   "id": "1ce52339",
   "metadata": {
    "id": "1ce52339"
   },
   "source": [
    "## Following back"
   ]
  },
  {
   "cell_type": "code",
   "execution_count": 13,
   "id": "3f202e00",
   "metadata": {
    "executionInfo": {
     "elapsed": 8,
     "status": "ok",
     "timestamp": 1651338532881,
     "user": {
      "displayName": "Κώστας Κωνσταντινίδης",
      "userId": "06341401238786212518"
     },
     "user_tz": -180
    },
    "id": "3f202e00"
   },
   "outputs": [],
   "source": [
    "def follows_back(a,b):\n",
    "    if train_graph.has_edge(b,a):\n",
    "        return 1\n",
    "    else:\n",
    "        return 0"
   ]
  },
  {
   "cell_type": "markdown",
   "id": "e0f5e7c8",
   "metadata": {
    "id": "e0f5e7c8"
   },
   "source": [
    "## Katz Centrality:"
   ]
  },
  {
   "cell_type": "code",
   "execution_count": 14,
   "id": "2c695829",
   "metadata": {
    "executionInfo": {
     "elapsed": 512,
     "status": "ok",
     "timestamp": 1651338533388,
     "user": {
      "displayName": "Κώστας Κωνσταντινίδης",
      "userId": "06341401238786212518"
     },
     "user_tz": -180
    },
    "id": "2c695829"
   },
   "outputs": [],
   "source": [
    "if not os.path.isfile('katz.p'):\n",
    "    katz = nx.katz.katz_centrality(train_graph,alpha=0.005,beta=1)\n",
    "    pickle.dump(katz,open('katz.p','wb'))\n",
    "else:\n",
    "    katz = pickle.load(open('katz.p','rb'))"
   ]
  },
  {
   "cell_type": "code",
   "execution_count": 15,
   "id": "033d9e7a",
   "metadata": {
    "colab": {
     "base_uri": "https://localhost:8080/"
    },
    "executionInfo": {
     "elapsed": 399,
     "status": "ok",
     "timestamp": 1651338534453,
     "user": {
      "displayName": "Κώστας Κωνσταντινίδης",
      "userId": "06341401238786212518"
     },
     "user_tz": -180
    },
    "id": "033d9e7a",
    "outputId": "56532534-d29b-4d18-953e-48ea5cc3e5f3"
   },
   "outputs": [
    {
     "name": "stdout",
     "output_type": "stream",
     "text": [
      "min 0.0007101687329270317\n",
      "max 0.00557733722363664\n",
      "mean 0.0007306395563933362\n"
     ]
    }
   ],
   "source": [
    "print('min',katz[min(katz, key=katz.get)])\n",
    "print('max',katz[max(katz, key=katz.get)])\n",
    "print('mean',float(sum(katz.values())) / len(katz))"
   ]
  },
  {
   "cell_type": "code",
   "execution_count": 16,
   "id": "6cd5aa6d",
   "metadata": {
    "colab": {
     "base_uri": "https://localhost:8080/"
    },
    "executionInfo": {
     "elapsed": 5,
     "status": "ok",
     "timestamp": 1651338534453,
     "user": {
      "displayName": "Κώστας Κωνσταντινίδης",
      "userId": "06341401238786212518"
     },
     "user_tz": -180
    },
    "id": "6cd5aa6d",
    "outputId": "41e0cb1c-0581-44ba-afac-0fd2544a7b8a"
   },
   "outputs": [
    {
     "name": "stdout",
     "output_type": "stream",
     "text": [
      "0.0007306395563933362\n"
     ]
    }
   ],
   "source": [
    "mean_katz = float(sum(katz.values())) / len(katz)\n",
    "print(mean_katz)"
   ]
  },
  {
   "cell_type": "markdown",
   "id": "1a154481",
   "metadata": {
    "id": "1a154481"
   },
   "source": [
    "## Hits Algorithm"
   ]
  },
  {
   "cell_type": "code",
   "execution_count": 17,
   "id": "86dbef5e",
   "metadata": {
    "executionInfo": {
     "elapsed": 1582,
     "status": "ok",
     "timestamp": 1651338536032,
     "user": {
      "displayName": "Κώστας Κωνσταντινίδης",
      "userId": "06341401238786212518"
     },
     "user_tz": -180
    },
    "id": "86dbef5e"
   },
   "outputs": [],
   "source": [
    "if not os.path.isfile('hits.p'):\n",
    "    hits = nx.hits(train_graph, max_iter=100, tol=1e-08, nstart=None, normalized=True)\n",
    "    pickle.dump(hits,open('hits.p','wb'))\n",
    "else:\n",
    "    hits = pickle.load(open('hits.p','rb'))"
   ]
  },
  {
   "cell_type": "code",
   "execution_count": 18,
   "id": "7820ab28",
   "metadata": {
    "colab": {
     "base_uri": "https://localhost:8080/"
    },
    "executionInfo": {
     "elapsed": 654,
     "status": "ok",
     "timestamp": 1651338536682,
     "user": {
      "displayName": "Κώστας Κωνσταντινίδης",
      "userId": "06341401238786212518"
     },
     "user_tz": -180
    },
    "id": "7820ab28",
    "outputId": "8bd8e839-13e0-4c5a-a75a-d482b911eb40"
   },
   "outputs": [
    {
     "name": "stdout",
     "output_type": "stream",
     "text": [
      "min -2.249912022959974e-20\n",
      "max 0.004813673061976435\n",
      "mean 5.369934808962772e-07\n"
     ]
    }
   ],
   "source": [
    "print('min',hits[0][min(hits[0], key=hits[0].get)])\n",
    "print('max',hits[0][max(hits[0], key=hits[0].get)])\n",
    "print('mean',float(sum(hits[0].values())) / len(hits[0]))"
   ]
  },
  {
   "cell_type": "markdown",
   "id": "c0568510",
   "metadata": {
    "id": "c0568510"
   },
   "source": [
    "## Choosing the number of occasions that will be trained"
   ]
  },
  {
   "cell_type": "code",
   "execution_count": 19,
   "id": "60e9c352",
   "metadata": {
    "executionInfo": {
     "elapsed": 3,
     "status": "ok",
     "timestamp": 1651338536682,
     "user": {
      "displayName": "Κώστας Κωνσταντινίδης",
      "userId": "06341401238786212518"
     },
     "user_tz": -180
    },
    "id": "60e9c352"
   },
   "outputs": [],
   "source": [
    "import random\n",
    "if os.path.isfile('Classification.csv'):\n",
    "    filename = \"Classification.csv\"\n",
    "    # you uncomment this line, if you dont know the lentgh of the file name\n",
    "    # here we have hardcoded the number of lines as 15100030\n",
    "    n_train = sum(1 for line in open(filename)) #number of records in file (excludes header)\n",
    "    #n_train =  15100028\n",
    "    s = 100000 # HOW MANY TO READ\n",
    "    skip_train = sorted(random.sample(range(1,n_train+1),n_train-s))\n",
    "    #https://stackoverflow.com/a/22259008/4084039"
   ]
  },
  {
   "cell_type": "markdown",
   "id": "5cf9c012",
   "metadata": {},
   "source": [
    "# From Sample to Full"
   ]
  },
  {
   "cell_type": "code",
   "execution_count": 20,
   "id": "73d75bcf",
   "metadata": {
    "colab": {
     "base_uri": "https://localhost:8080/",
     "height": 129
    },
    "executionInfo": {
     "elapsed": 10472,
     "status": "ok",
     "timestamp": 1651338547152,
     "user": {
      "displayName": "Κώστας Κωνσταντινίδης",
      "userId": "06341401238786212518"
     },
     "user_tz": -180
    },
    "id": "73d75bcf",
    "outputId": "e94aba2f-7b25-4b46-ff03-a36d2bde5486"
   },
   "outputs": [
    {
     "name": "stdout",
     "output_type": "stream",
     "text": [
      "Our train matrix size  (100001, 3)\n"
     ]
    },
    {
     "data": {
      "text/html": [
       "<div>\n",
       "<style scoped>\n",
       "    .dataframe tbody tr th:only-of-type {\n",
       "        vertical-align: middle;\n",
       "    }\n",
       "\n",
       "    .dataframe tbody tr th {\n",
       "        vertical-align: top;\n",
       "    }\n",
       "\n",
       "    .dataframe thead th {\n",
       "        text-align: right;\n",
       "    }\n",
       "</style>\n",
       "<table border=\"1\" class=\"dataframe\">\n",
       "  <thead>\n",
       "    <tr style=\"text-align: right;\">\n",
       "      <th></th>\n",
       "      <th>source</th>\n",
       "      <th>destination</th>\n",
       "      <th>connected</th>\n",
       "    </tr>\n",
       "  </thead>\n",
       "  <tbody>\n",
       "    <tr>\n",
       "      <th>0</th>\n",
       "      <td>1</td>\n",
       "      <td>690569</td>\n",
       "      <td>1</td>\n",
       "    </tr>\n",
       "    <tr>\n",
       "      <th>1</th>\n",
       "      <td>18</td>\n",
       "      <td>1003537</td>\n",
       "      <td>1</td>\n",
       "    </tr>\n",
       "  </tbody>\n",
       "</table>\n",
       "</div>"
      ],
      "text/plain": [
       "   source  destination  connected\n",
       "0       1       690569          1\n",
       "1      18      1003537          1"
      ]
     },
     "execution_count": 20,
     "metadata": {},
     "output_type": "execute_result"
    }
   ],
   "source": [
    "df_final_train = pd.read_csv('Classification.csv', skiprows=skip_train, names=['source', 'destination'])\n",
    "#df_final_train = pd.read_csv('Classification.csv', names=['source', 'destination'])\n",
    "df_final_train['connected'] = pd.read_csv('train_y.csv', skiprows=skip_train, names=['connected'])\n",
    "#df_final_train['connected'] = pd.read_csv('train_y.csv', names=['connected'])\n",
    "\n",
    "print(\"Our train matrix size \",df_final_train.shape)\n",
    "df_final_train.head(2)"
   ]
  },
  {
   "cell_type": "markdown",
   "id": "d901e83a",
   "metadata": {
    "id": "d901e83a"
   },
   "source": [
    "## Adding features as collumns\n"
   ]
  },
  {
   "cell_type": "code",
   "execution_count": 21,
   "id": "862a0008",
   "metadata": {
    "id": "862a0008"
   },
   "outputs": [],
   "source": [
    "if not os.path.isfile('storage_sample_stage1.h5'):\n",
    "    #mapping jaccrd followers to train and test data\n",
    "    df_final_train['jaccard_followers'] = df_final_train.apply(lambda row:\n",
    "                                            jaccard_for_followers(row['source'],row['destination']),axis=1)\n",
    "\n",
    "\n",
    "    #mapping jaccrd followees to train and test data\n",
    "    df_final_train['jaccard_followees'] = df_final_train.apply(lambda row:\n",
    "                                            jaccard_for_followees(row['source'],row['destination']),axis=1)\n",
    "\n",
    "        #mapping jaccrd followers to train and test data\n",
    "    df_final_train['cosine_followers'] = df_final_train.apply(lambda row:\n",
    "                                            cosine_for_followers(row['source'],row['destination']),axis=1)\n",
    "\n",
    "    #mapping jaccrd followees to train and test data\n",
    "    df_final_train['cosine_followees'] = df_final_train.apply(lambda row:\n",
    "                                            cosine_for_followees(row['source'],row['destination']),axis=1)"
   ]
  },
  {
   "cell_type": "code",
   "execution_count": 22,
   "id": "969fa469",
   "metadata": {
    "id": "969fa469"
   },
   "outputs": [],
   "source": [
    "def compute_features_stage1(df_final):\n",
    "    #calculating no of followers followees for source and destination\n",
    "    #calculating intersection of followers and followees for source and destination\n",
    "    num_followers_s=[]\n",
    "    num_followees_s=[]\n",
    "    num_followers_d=[]\n",
    "    num_followees_d=[]\n",
    "    inter_followers=[]\n",
    "    inter_followees=[]\n",
    "    for i,row in df_final.iterrows():\n",
    "        try:\n",
    "            s1=set(train_graph.predecessors(row['source']))\n",
    "            s2=set(train_graph.successors(row['source']))\n",
    "        except:\n",
    "            s1 = set()\n",
    "            s2 = set()\n",
    "        try:\n",
    "            d1=set(train_graph.predecessors(row['destination']))\n",
    "            d2=set(train_graph.successors(row['destination']))\n",
    "        except:\n",
    "            d1 = set()\n",
    "            d2 = set()\n",
    "        num_followers_s.append(len(s1))\n",
    "        num_followees_s.append(len(s2))\n",
    "\n",
    "        num_followers_d.append(len(d1))\n",
    "        num_followees_d.append(len(d2))\n",
    "\n",
    "        inter_followers.append(len(s1.intersection(d1)))\n",
    "        inter_followees.append(len(s2.intersection(d2)))\n",
    "    \n",
    "    return num_followers_s, num_followers_d, num_followees_s, num_followees_d, inter_followers, inter_followees"
   ]
  },
  {
   "cell_type": "code",
   "execution_count": 23,
   "id": "f09396c3",
   "metadata": {
    "id": "f09396c3"
   },
   "outputs": [],
   "source": [
    "if not os.path.isfile('storage_sample_stage1.h5'):\n",
    "    df_final_train['num_followers_s'], df_final_train['num_followers_d'], \\\n",
    "    df_final_train['num_followees_s'], df_final_train['num_followees_d'], \\\n",
    "    df_final_train['inter_followers'], df_final_train['inter_followees']= compute_features_stage1(df_final_train)\n",
    "    \n",
    "\n",
    "    hdf = HDFStore('storage_sample_stage1.h5')\n",
    "    hdf.put('train_df',df_final_train, format='table', data_columns=True)\n",
    "    hdf.close()\n",
    "else:\n",
    "    df_final_train = read_hdf('storage_sample_stage1.h5', 'train_df',mode='r')"
   ]
  },
  {
   "cell_type": "markdown",
   "id": "f948e99f",
   "metadata": {
    "id": "f948e99f"
   },
   "source": [
    "## Stage 2"
   ]
  },
  {
   "cell_type": "code",
   "execution_count": 24,
   "id": "a3d323f2",
   "metadata": {
    "id": "a3d323f2"
   },
   "outputs": [],
   "source": [
    "if not os.path.isfile('storage_sample_stage2.h5'):\n",
    "    #mapping adar index on train\n",
    "    df_final_train['adar_index'] = df_final_train.apply(lambda row: calc_adar_in(row['source'],row['destination']),axis=1)\n",
    "\n",
    "    #--------------------------------------------------------------------------------------------------------\n",
    "    #mapping followback or not on train\n",
    "    df_final_train['follows_back'] = df_final_train.apply(lambda row: follows_back(row['source'],row['destination']),axis=1)\n",
    "\n",
    "    #--------------------------------------------------------------------------------------------------------\n",
    "    #mapping same component of wcc or not on train\n",
    "    df_final_train['same_comp'] = df_final_train.apply(lambda row: belongs_to_same_wcc(row['source'],row['destination']),axis=1)\n",
    "    \n",
    "#    --------------------------------------------------------------------------------------------------------\n",
    "    #mapping shortest path on train \n",
    "    df_final_train['shortest_path'] = df_final_train.apply(lambda row: compute_shortest_path_length(row['source'],row['destination']),axis=1)\n",
    "    #mapping shortest path on test\n",
    "\n",
    "    hdf = HDFStore('storage_sample_stage2.h5')\n",
    "    hdf.put('train_df',df_final_train, format='table', data_columns=True)\n",
    "    hdf.close()\n",
    "else:\n",
    "    df_final_train = read_hdf('storage_sample_stage2.h5', 'train_df',mode='r')"
   ]
  },
  {
   "cell_type": "markdown",
   "id": "df558daf",
   "metadata": {
    "id": "df558daf"
   },
   "source": [
    "## Stage 3\n",
    "\n",
    "\n",
    "<li>Weight Features\n",
    "    <ul>\n",
    "        <li>weight of incoming edges</li>\n",
    "        <li>weight of outgoing edges</li>\n",
    "        <li>weight of incoming edges + weight of outgoing edges</li>\n",
    "        <li>weight of incoming edges * weight of outgoing edges</li>\n",
    "        <li>2*weight of incoming edges + weight of outgoing edges</li>\n",
    "        <li>weight of incoming edges + 2*weight of outgoing edges</li>\n",
    "    </ul>\n",
    "</li>\n"
   ]
  },
  {
   "cell_type": "markdown",
   "id": "0efeb543",
   "metadata": {
    "id": "0efeb543"
   },
   "source": [
    "#### Weight Features"
   ]
  },
  {
   "cell_type": "markdown",
   "id": "95b2c0ae",
   "metadata": {
    "id": "95b2c0ae"
   },
   "source": [
    "In order to determine the similarity of nodes, an edge weight value was calculated between nodes. Edge weight decreases as the neighbor count goes up. Intuitively, consider one million people following a celebrity on a social network then chances are most of them never met each other or the celebrity. On the other hand, if a user has 30 contacts in his/her social network, the chances are higher that many of them know each other. \n",
    "`credit` - Graph-based Features for Supervised Link Prediction\n",
    "William Cukierski, Benjamin Hamner, Bo Yang"
   ]
  },
  {
   "cell_type": "markdown",
   "id": "125232e6",
   "metadata": {
    "id": "125232e6"
   },
   "source": [
    "\\begin{equation}\n",
    "W = \\frac{1}{\\sqrt{1+|X|}}\n",
    "\\end{equation}"
   ]
  },
  {
   "cell_type": "markdown",
   "id": "ed338d00",
   "metadata": {
    "id": "ed338d00"
   },
   "source": [
    "it is directed graph so calculated Weighted in and Weighted out differently"
   ]
  },
  {
   "cell_type": "code",
   "execution_count": 25,
   "id": "90e1c15b",
   "metadata": {
    "id": "90e1c15b"
   },
   "outputs": [
    {
     "name": "stderr",
     "output_type": "stream",
     "text": [
      "100%|████████████████████████████████████████████████████████████████████| 1862220/1862220 [00:13<00:00, 138227.68it/s]\n"
     ]
    }
   ],
   "source": [
    "#weight for source and destination of each link\n",
    "Weight_in = {}\n",
    "Weight_out = {}\n",
    "for i in  tqdm(train_graph.nodes()):\n",
    "    s1=set(train_graph.predecessors(i))\n",
    "    w_in = 1.0/(np.sqrt(1+len(s1)))\n",
    "    Weight_in[i]=w_in\n",
    "    \n",
    "    s2=set(train_graph.successors(i))\n",
    "    w_out = 1.0/(np.sqrt(1+len(s2)))\n",
    "    Weight_out[i]=w_out\n",
    "    \n",
    "#for imputing with mean\n",
    "mean_weight_in = np.mean(list(Weight_in.values()))\n",
    "mean_weight_out = np.mean(list(Weight_out.values()))"
   ]
  },
  {
   "cell_type": "code",
   "execution_count": 26,
   "id": "5692098f",
   "metadata": {
    "id": "5692098f"
   },
   "outputs": [],
   "source": [
    "if not os.path.isfile('storage_sample_stage3.h5'):\n",
    "    #mapping to pandas train\n",
    "    df_final_train['weight_in'] = df_final_train.destination.apply(lambda x: Weight_in.get(x,mean_weight_in))\n",
    "    df_final_train['weight_out'] = df_final_train.source.apply(lambda x: Weight_out.get(x,mean_weight_out))\n",
    "\n",
    "\n",
    "    #some features engineerings on the in and out weights\n",
    "    df_final_train['weight_f1'] = df_final_train.weight_in + df_final_train.weight_out\n",
    "    df_final_train['weight_f2'] = df_final_train.weight_in * df_final_train.weight_out\n",
    "    df_final_train['weight_f3'] = (2*df_final_train.weight_in + 1*df_final_train.weight_out)\n",
    "    df_final_train['weight_f4'] = (1*df_final_train.weight_in + 2*df_final_train.weight_out)\n"
   ]
  },
  {
   "cell_type": "code",
   "execution_count": 27,
   "id": "ae245e4d",
   "metadata": {
    "id": "ae245e4d"
   },
   "outputs": [],
   "source": [
    "if not os.path.isfile('storage_sample_stage3.h5'):\n",
    "    \n",
    "    #page rank \n",
    "    #if anything not there in train graph then adding mean page rank \n",
    "    df_final_train['page_rank_s'] = df_final_train.source.apply(lambda x:pr.get(x,mean_pr))\n",
    "    df_final_train['page_rank_d'] = df_final_train.destination.apply(lambda x:pr.get(x,mean_pr))\n",
    "\n",
    "\n",
    "    #================================================================================\n",
    "\n",
    "    #Katz centrality score \n",
    "    #if anything not there in train graph then adding mean katz score\n",
    "    df_final_train['katz_s'] = df_final_train.source.apply(lambda x: katz.get(x,mean_katz))\n",
    "    df_final_train['katz_d'] = df_final_train.destination.apply(lambda x: katz.get(x,mean_katz))\n",
    "\n",
    "\n",
    "    #================================================================================\n",
    "\n",
    "    #Hits algorithm score \n",
    "    #if anything not there in train graph then adding 0\n",
    "    df_final_train['hubs_s'] = df_final_train.source.apply(lambda x: hits[0].get(x,0))\n",
    "    df_final_train['hubs_d'] = df_final_train.destination.apply(lambda x: hits[0].get(x,0))\n",
    "\n",
    "    #================================================================================\n",
    "\n",
    "    #Hits algorithm score \n",
    "    #if anything not there in train graph then adding 0\n",
    "    df_final_train['authorities_s'] = df_final_train.source.apply(lambda x: hits[1].get(x,0))\n",
    "    df_final_train['authorities_d'] = df_final_train.destination.apply(lambda x: hits[1].get(x,0))\n",
    "\n",
    "\n",
    "    #================================================================================\n",
    "\n",
    "    hdf = HDFStore('storage_sample_stage3.h5')\n",
    "    hdf.put('train_df',df_final_train, format='table', data_columns=True)\n",
    "    hdf.close()\n",
    "else:\n",
    "    df_final_train = read_hdf('storage_sample_stage3.h5', 'train_df',mode='r')"
   ]
  },
  {
   "cell_type": "code",
   "execution_count": 28,
   "id": "e3747bc6",
   "metadata": {
    "id": "e3747bc6"
   },
   "outputs": [
    {
     "data": {
      "text/html": [
       "<div>\n",
       "<style scoped>\n",
       "    .dataframe tbody tr th:only-of-type {\n",
       "        vertical-align: middle;\n",
       "    }\n",
       "\n",
       "    .dataframe tbody tr th {\n",
       "        vertical-align: top;\n",
       "    }\n",
       "\n",
       "    .dataframe thead th {\n",
       "        text-align: right;\n",
       "    }\n",
       "</style>\n",
       "<table border=\"1\" class=\"dataframe\">\n",
       "  <thead>\n",
       "    <tr style=\"text-align: right;\">\n",
       "      <th></th>\n",
       "      <th>source</th>\n",
       "      <th>destination</th>\n",
       "      <th>connected</th>\n",
       "      <th>jaccard_followers</th>\n",
       "      <th>jaccard_followees</th>\n",
       "      <th>cosine_followers</th>\n",
       "      <th>cosine_followees</th>\n",
       "      <th>num_followers_s</th>\n",
       "      <th>num_followers_d</th>\n",
       "      <th>num_followees_s</th>\n",
       "      <th>...</th>\n",
       "      <th>weight_f3</th>\n",
       "      <th>weight_f4</th>\n",
       "      <th>page_rank_s</th>\n",
       "      <th>page_rank_d</th>\n",
       "      <th>katz_s</th>\n",
       "      <th>katz_d</th>\n",
       "      <th>hubs_s</th>\n",
       "      <th>hubs_d</th>\n",
       "      <th>authorities_s</th>\n",
       "      <th>authorities_d</th>\n",
       "    </tr>\n",
       "  </thead>\n",
       "  <tbody>\n",
       "    <tr>\n",
       "      <th>0</th>\n",
       "      <td>1</td>\n",
       "      <td>690569</td>\n",
       "      <td>1</td>\n",
       "      <td>0</td>\n",
       "      <td>0.090909</td>\n",
       "      <td>0.039817</td>\n",
       "      <td>0.251976</td>\n",
       "      <td>3</td>\n",
       "      <td>29</td>\n",
       "      <td>3</td>\n",
       "      <td>...</td>\n",
       "      <td>0.865148</td>\n",
       "      <td>1.182574</td>\n",
       "      <td>2.979445e-07</td>\n",
       "      <td>3.726469e-06</td>\n",
       "      <td>0.000722</td>\n",
       "      <td>0.000819</td>\n",
       "      <td>8.549207e-18</td>\n",
       "      <td>1.690629e-16</td>\n",
       "      <td>3.812413e-18</td>\n",
       "      <td>3.942273e-16</td>\n",
       "    </tr>\n",
       "    <tr>\n",
       "      <th>1</th>\n",
       "      <td>18</td>\n",
       "      <td>1003537</td>\n",
       "      <td>1</td>\n",
       "      <td>0</td>\n",
       "      <td>0.058824</td>\n",
       "      <td>0.092450</td>\n",
       "      <td>0.149071</td>\n",
       "      <td>13</td>\n",
       "      <td>3</td>\n",
       "      <td>15</td>\n",
       "      <td>...</td>\n",
       "      <td>1.250000</td>\n",
       "      <td>1.000000</td>\n",
       "      <td>1.111717e-06</td>\n",
       "      <td>3.046637e-07</td>\n",
       "      <td>0.000759</td>\n",
       "      <td>0.000721</td>\n",
       "      <td>1.583866e-17</td>\n",
       "      <td>9.329002e-20</td>\n",
       "      <td>6.343111e-18</td>\n",
       "      <td>1.297053e-19</td>\n",
       "    </tr>\n",
       "    <tr>\n",
       "      <th>2</th>\n",
       "      <td>25</td>\n",
       "      <td>992602</td>\n",
       "      <td>1</td>\n",
       "      <td>0</td>\n",
       "      <td>0.242424</td>\n",
       "      <td>0.138866</td>\n",
       "      <td>0.440386</td>\n",
       "      <td>21</td>\n",
       "      <td>11</td>\n",
       "      <td>30</td>\n",
       "      <td>...</td>\n",
       "      <td>0.756956</td>\n",
       "      <td>0.647886</td>\n",
       "      <td>1.249942e-06</td>\n",
       "      <td>6.286333e-07</td>\n",
       "      <td>0.000790</td>\n",
       "      <td>0.000753</td>\n",
       "      <td>1.054783e-13</td>\n",
       "      <td>6.601673e-14</td>\n",
       "      <td>6.990593e-15</td>\n",
       "      <td>3.079403e-15</td>\n",
       "    </tr>\n",
       "    <tr>\n",
       "      <th>3</th>\n",
       "      <td>61</td>\n",
       "      <td>1408376</td>\n",
       "      <td>1</td>\n",
       "      <td>0</td>\n",
       "      <td>0.315789</td>\n",
       "      <td>0.151523</td>\n",
       "      <td>0.514496</td>\n",
       "      <td>8</td>\n",
       "      <td>7</td>\n",
       "      <td>17</td>\n",
       "      <td>...</td>\n",
       "      <td>0.942809</td>\n",
       "      <td>0.824958</td>\n",
       "      <td>6.565506e-07</td>\n",
       "      <td>4.826817e-07</td>\n",
       "      <td>0.000740</td>\n",
       "      <td>0.000736</td>\n",
       "      <td>2.768741e-19</td>\n",
       "      <td>2.050358e-19</td>\n",
       "      <td>6.563911e-21</td>\n",
       "      <td>6.826043e-21</td>\n",
       "    </tr>\n",
       "    <tr>\n",
       "      <th>4</th>\n",
       "      <td>62</td>\n",
       "      <td>402932</td>\n",
       "      <td>1</td>\n",
       "      <td>0</td>\n",
       "      <td>0.000000</td>\n",
       "      <td>0.149071</td>\n",
       "      <td>0.000000</td>\n",
       "      <td>5</td>\n",
       "      <td>3</td>\n",
       "      <td>3</td>\n",
       "      <td>...</td>\n",
       "      <td>1.500000</td>\n",
       "      <td>1.500000</td>\n",
       "      <td>4.097580e-07</td>\n",
       "      <td>8.216330e-07</td>\n",
       "      <td>0.000729</td>\n",
       "      <td>0.000721</td>\n",
       "      <td>3.984634e-18</td>\n",
       "      <td>-0.000000e+00</td>\n",
       "      <td>1.731093e-16</td>\n",
       "      <td>2.732624e-19</td>\n",
       "    </tr>\n",
       "  </tbody>\n",
       "</table>\n",
       "<p>5 rows × 31 columns</p>\n",
       "</div>"
      ],
      "text/plain": [
       "   source  destination  connected  jaccard_followers  jaccard_followees  \\\n",
       "0       1       690569          1                  0           0.090909   \n",
       "1      18      1003537          1                  0           0.058824   \n",
       "2      25       992602          1                  0           0.242424   \n",
       "3      61      1408376          1                  0           0.315789   \n",
       "4      62       402932          1                  0           0.000000   \n",
       "\n",
       "   cosine_followers  cosine_followees  num_followers_s  num_followers_d  \\\n",
       "0          0.039817          0.251976                3               29   \n",
       "1          0.092450          0.149071               13                3   \n",
       "2          0.138866          0.440386               21               11   \n",
       "3          0.151523          0.514496                8                7   \n",
       "4          0.149071          0.000000                5                3   \n",
       "\n",
       "   num_followees_s  ...  weight_f3  weight_f4   page_rank_s   page_rank_d  \\\n",
       "0                3  ...   0.865148   1.182574  2.979445e-07  3.726469e-06   \n",
       "1               15  ...   1.250000   1.000000  1.111717e-06  3.046637e-07   \n",
       "2               30  ...   0.756956   0.647886  1.249942e-06  6.286333e-07   \n",
       "3               17  ...   0.942809   0.824958  6.565506e-07  4.826817e-07   \n",
       "4                3  ...   1.500000   1.500000  4.097580e-07  8.216330e-07   \n",
       "\n",
       "     katz_s    katz_d        hubs_s        hubs_d  authorities_s  \\\n",
       "0  0.000722  0.000819  8.549207e-18  1.690629e-16   3.812413e-18   \n",
       "1  0.000759  0.000721  1.583866e-17  9.329002e-20   6.343111e-18   \n",
       "2  0.000790  0.000753  1.054783e-13  6.601673e-14   6.990593e-15   \n",
       "3  0.000740  0.000736  2.768741e-19  2.050358e-19   6.563911e-21   \n",
       "4  0.000729  0.000721  3.984634e-18 -0.000000e+00   1.731093e-16   \n",
       "\n",
       "   authorities_d  \n",
       "0   3.942273e-16  \n",
       "1   1.297053e-19  \n",
       "2   3.079403e-15  \n",
       "3   6.826043e-21  \n",
       "4   2.732624e-19  \n",
       "\n",
       "[5 rows x 31 columns]"
      ]
     },
     "execution_count": 28,
     "metadata": {},
     "output_type": "execute_result"
    }
   ],
   "source": [
    "df_final_train.head()"
   ]
  },
  {
   "cell_type": "markdown",
   "id": "39fd8a26",
   "metadata": {
    "id": "39fd8a26"
   },
   "source": [
    "### Adding new feature Preferential Attachement "
   ]
  },
  {
   "cell_type": "markdown",
   "id": "a5e1149e",
   "metadata": {
    "id": "a5e1149e"
   },
   "source": [
    " One well-known concept in social networks is that users with many friends tend to create more connections in the future. This is due to the fact that in some social networks, like in finance, the rich get richer. We estimate how ”rich” our two vertices are by calculating the multiplication between the number of friends (|Γ(x)|) or followers each vertex has."
   ]
  },
  {
   "cell_type": "markdown",
   "id": "ccce9a9d",
   "metadata": {
    "id": "ccce9a9d"
   },
   "source": [
    "#### Preferential Attachement for followers"
   ]
  },
  {
   "cell_type": "code",
   "execution_count": 29,
   "id": "3c6fecb5",
   "metadata": {
    "id": "3c6fecb5"
   },
   "outputs": [
    {
     "data": {
      "text/html": [
       "<div>\n",
       "<style scoped>\n",
       "    .dataframe tbody tr th:only-of-type {\n",
       "        vertical-align: middle;\n",
       "    }\n",
       "\n",
       "    .dataframe tbody tr th {\n",
       "        vertical-align: top;\n",
       "    }\n",
       "\n",
       "    .dataframe thead th {\n",
       "        text-align: right;\n",
       "    }\n",
       "</style>\n",
       "<table border=\"1\" class=\"dataframe\">\n",
       "  <thead>\n",
       "    <tr style=\"text-align: right;\">\n",
       "      <th></th>\n",
       "      <th>source</th>\n",
       "      <th>destination</th>\n",
       "      <th>connected</th>\n",
       "      <th>jaccard_followers</th>\n",
       "      <th>jaccard_followees</th>\n",
       "      <th>cosine_followers</th>\n",
       "      <th>cosine_followees</th>\n",
       "      <th>num_followers_s</th>\n",
       "      <th>num_followers_d</th>\n",
       "      <th>num_followees_s</th>\n",
       "      <th>...</th>\n",
       "      <th>weight_f4</th>\n",
       "      <th>page_rank_s</th>\n",
       "      <th>page_rank_d</th>\n",
       "      <th>katz_s</th>\n",
       "      <th>katz_d</th>\n",
       "      <th>hubs_s</th>\n",
       "      <th>hubs_d</th>\n",
       "      <th>authorities_s</th>\n",
       "      <th>authorities_d</th>\n",
       "      <th>prefer_Attach_followers</th>\n",
       "    </tr>\n",
       "  </thead>\n",
       "  <tbody>\n",
       "    <tr>\n",
       "      <th>0</th>\n",
       "      <td>1</td>\n",
       "      <td>690569</td>\n",
       "      <td>1</td>\n",
       "      <td>0</td>\n",
       "      <td>0.090909</td>\n",
       "      <td>0.039817</td>\n",
       "      <td>0.251976</td>\n",
       "      <td>3</td>\n",
       "      <td>29</td>\n",
       "      <td>3</td>\n",
       "      <td>...</td>\n",
       "      <td>1.182574</td>\n",
       "      <td>2.979445e-07</td>\n",
       "      <td>3.726469e-06</td>\n",
       "      <td>0.000722</td>\n",
       "      <td>0.000819</td>\n",
       "      <td>8.549207e-18</td>\n",
       "      <td>1.690629e-16</td>\n",
       "      <td>3.812413e-18</td>\n",
       "      <td>3.942273e-16</td>\n",
       "      <td>87</td>\n",
       "    </tr>\n",
       "    <tr>\n",
       "      <th>1</th>\n",
       "      <td>18</td>\n",
       "      <td>1003537</td>\n",
       "      <td>1</td>\n",
       "      <td>0</td>\n",
       "      <td>0.058824</td>\n",
       "      <td>0.092450</td>\n",
       "      <td>0.149071</td>\n",
       "      <td>13</td>\n",
       "      <td>3</td>\n",
       "      <td>15</td>\n",
       "      <td>...</td>\n",
       "      <td>1.000000</td>\n",
       "      <td>1.111717e-06</td>\n",
       "      <td>3.046637e-07</td>\n",
       "      <td>0.000759</td>\n",
       "      <td>0.000721</td>\n",
       "      <td>1.583866e-17</td>\n",
       "      <td>9.329002e-20</td>\n",
       "      <td>6.343111e-18</td>\n",
       "      <td>1.297053e-19</td>\n",
       "      <td>39</td>\n",
       "    </tr>\n",
       "    <tr>\n",
       "      <th>2</th>\n",
       "      <td>25</td>\n",
       "      <td>992602</td>\n",
       "      <td>1</td>\n",
       "      <td>0</td>\n",
       "      <td>0.242424</td>\n",
       "      <td>0.138866</td>\n",
       "      <td>0.440386</td>\n",
       "      <td>21</td>\n",
       "      <td>11</td>\n",
       "      <td>30</td>\n",
       "      <td>...</td>\n",
       "      <td>0.647886</td>\n",
       "      <td>1.249942e-06</td>\n",
       "      <td>6.286333e-07</td>\n",
       "      <td>0.000790</td>\n",
       "      <td>0.000753</td>\n",
       "      <td>1.054783e-13</td>\n",
       "      <td>6.601673e-14</td>\n",
       "      <td>6.990593e-15</td>\n",
       "      <td>3.079403e-15</td>\n",
       "      <td>231</td>\n",
       "    </tr>\n",
       "    <tr>\n",
       "      <th>3</th>\n",
       "      <td>61</td>\n",
       "      <td>1408376</td>\n",
       "      <td>1</td>\n",
       "      <td>0</td>\n",
       "      <td>0.315789</td>\n",
       "      <td>0.151523</td>\n",
       "      <td>0.514496</td>\n",
       "      <td>8</td>\n",
       "      <td>7</td>\n",
       "      <td>17</td>\n",
       "      <td>...</td>\n",
       "      <td>0.824958</td>\n",
       "      <td>6.565506e-07</td>\n",
       "      <td>4.826817e-07</td>\n",
       "      <td>0.000740</td>\n",
       "      <td>0.000736</td>\n",
       "      <td>2.768741e-19</td>\n",
       "      <td>2.050358e-19</td>\n",
       "      <td>6.563911e-21</td>\n",
       "      <td>6.826043e-21</td>\n",
       "      <td>56</td>\n",
       "    </tr>\n",
       "    <tr>\n",
       "      <th>4</th>\n",
       "      <td>62</td>\n",
       "      <td>402932</td>\n",
       "      <td>1</td>\n",
       "      <td>0</td>\n",
       "      <td>0.000000</td>\n",
       "      <td>0.149071</td>\n",
       "      <td>0.000000</td>\n",
       "      <td>5</td>\n",
       "      <td>3</td>\n",
       "      <td>3</td>\n",
       "      <td>...</td>\n",
       "      <td>1.500000</td>\n",
       "      <td>4.097580e-07</td>\n",
       "      <td>8.216330e-07</td>\n",
       "      <td>0.000729</td>\n",
       "      <td>0.000721</td>\n",
       "      <td>3.984634e-18</td>\n",
       "      <td>-0.000000e+00</td>\n",
       "      <td>1.731093e-16</td>\n",
       "      <td>2.732624e-19</td>\n",
       "      <td>15</td>\n",
       "    </tr>\n",
       "  </tbody>\n",
       "</table>\n",
       "<p>5 rows × 32 columns</p>\n",
       "</div>"
      ],
      "text/plain": [
       "   source  destination  connected  jaccard_followers  jaccard_followees  \\\n",
       "0       1       690569          1                  0           0.090909   \n",
       "1      18      1003537          1                  0           0.058824   \n",
       "2      25       992602          1                  0           0.242424   \n",
       "3      61      1408376          1                  0           0.315789   \n",
       "4      62       402932          1                  0           0.000000   \n",
       "\n",
       "   cosine_followers  cosine_followees  num_followers_s  num_followers_d  \\\n",
       "0          0.039817          0.251976                3               29   \n",
       "1          0.092450          0.149071               13                3   \n",
       "2          0.138866          0.440386               21               11   \n",
       "3          0.151523          0.514496                8                7   \n",
       "4          0.149071          0.000000                5                3   \n",
       "\n",
       "   num_followees_s  ...  weight_f4   page_rank_s   page_rank_d    katz_s  \\\n",
       "0                3  ...   1.182574  2.979445e-07  3.726469e-06  0.000722   \n",
       "1               15  ...   1.000000  1.111717e-06  3.046637e-07  0.000759   \n",
       "2               30  ...   0.647886  1.249942e-06  6.286333e-07  0.000790   \n",
       "3               17  ...   0.824958  6.565506e-07  4.826817e-07  0.000740   \n",
       "4                3  ...   1.500000  4.097580e-07  8.216330e-07  0.000729   \n",
       "\n",
       "     katz_d        hubs_s        hubs_d  authorities_s  authorities_d  \\\n",
       "0  0.000819  8.549207e-18  1.690629e-16   3.812413e-18   3.942273e-16   \n",
       "1  0.000721  1.583866e-17  9.329002e-20   6.343111e-18   1.297053e-19   \n",
       "2  0.000753  1.054783e-13  6.601673e-14   6.990593e-15   3.079403e-15   \n",
       "3  0.000736  2.768741e-19  2.050358e-19   6.563911e-21   6.826043e-21   \n",
       "4  0.000721  3.984634e-18 -0.000000e+00   1.731093e-16   2.732624e-19   \n",
       "\n",
       "   prefer_Attach_followers  \n",
       "0                       87  \n",
       "1                       39  \n",
       "2                      231  \n",
       "3                       56  \n",
       "4                       15  \n",
       "\n",
       "[5 rows x 32 columns]"
      ]
     },
     "execution_count": 29,
     "metadata": {},
     "output_type": "execute_result"
    }
   ],
   "source": [
    "#for train dataset\n",
    "nfs=np.array(df_final_train['num_followers_s'])\n",
    "nfd=np.array(df_final_train['num_followers_d'])\n",
    "preferential_followers=[]\n",
    "for i in range(len(nfs)):\n",
    "    preferential_followers.append(nfd[i]*nfs[i])\n",
    "df_final_train['prefer_Attach_followers']= preferential_followers\n",
    "df_final_train.head()"
   ]
  },
  {
   "cell_type": "markdown",
   "id": "6a3d6431",
   "metadata": {
    "id": "6a3d6431"
   },
   "source": [
    "#### Preferential Attachement for followees"
   ]
  },
  {
   "cell_type": "code",
   "execution_count": 30,
   "id": "f9cda986",
   "metadata": {
    "id": "f9cda986"
   },
   "outputs": [
    {
     "data": {
      "text/html": [
       "<div>\n",
       "<style scoped>\n",
       "    .dataframe tbody tr th:only-of-type {\n",
       "        vertical-align: middle;\n",
       "    }\n",
       "\n",
       "    .dataframe tbody tr th {\n",
       "        vertical-align: top;\n",
       "    }\n",
       "\n",
       "    .dataframe thead th {\n",
       "        text-align: right;\n",
       "    }\n",
       "</style>\n",
       "<table border=\"1\" class=\"dataframe\">\n",
       "  <thead>\n",
       "    <tr style=\"text-align: right;\">\n",
       "      <th></th>\n",
       "      <th>source</th>\n",
       "      <th>destination</th>\n",
       "      <th>connected</th>\n",
       "      <th>jaccard_followers</th>\n",
       "      <th>jaccard_followees</th>\n",
       "      <th>cosine_followers</th>\n",
       "      <th>cosine_followees</th>\n",
       "      <th>num_followers_s</th>\n",
       "      <th>num_followers_d</th>\n",
       "      <th>num_followees_s</th>\n",
       "      <th>...</th>\n",
       "      <th>page_rank_s</th>\n",
       "      <th>page_rank_d</th>\n",
       "      <th>katz_s</th>\n",
       "      <th>katz_d</th>\n",
       "      <th>hubs_s</th>\n",
       "      <th>hubs_d</th>\n",
       "      <th>authorities_s</th>\n",
       "      <th>authorities_d</th>\n",
       "      <th>prefer_Attach_followers</th>\n",
       "      <th>prefer_Attach_followees</th>\n",
       "    </tr>\n",
       "  </thead>\n",
       "  <tbody>\n",
       "    <tr>\n",
       "      <th>0</th>\n",
       "      <td>1</td>\n",
       "      <td>690569</td>\n",
       "      <td>1</td>\n",
       "      <td>0</td>\n",
       "      <td>0.090909</td>\n",
       "      <td>0.039817</td>\n",
       "      <td>0.251976</td>\n",
       "      <td>3</td>\n",
       "      <td>29</td>\n",
       "      <td>3</td>\n",
       "      <td>...</td>\n",
       "      <td>2.979445e-07</td>\n",
       "      <td>3.726469e-06</td>\n",
       "      <td>0.000722</td>\n",
       "      <td>0.000819</td>\n",
       "      <td>8.549207e-18</td>\n",
       "      <td>1.690629e-16</td>\n",
       "      <td>3.812413e-18</td>\n",
       "      <td>3.942273e-16</td>\n",
       "      <td>87</td>\n",
       "      <td>63</td>\n",
       "    </tr>\n",
       "    <tr>\n",
       "      <th>1</th>\n",
       "      <td>18</td>\n",
       "      <td>1003537</td>\n",
       "      <td>1</td>\n",
       "      <td>0</td>\n",
       "      <td>0.058824</td>\n",
       "      <td>0.092450</td>\n",
       "      <td>0.149071</td>\n",
       "      <td>13</td>\n",
       "      <td>3</td>\n",
       "      <td>15</td>\n",
       "      <td>...</td>\n",
       "      <td>1.111717e-06</td>\n",
       "      <td>3.046637e-07</td>\n",
       "      <td>0.000759</td>\n",
       "      <td>0.000721</td>\n",
       "      <td>1.583866e-17</td>\n",
       "      <td>9.329002e-20</td>\n",
       "      <td>6.343111e-18</td>\n",
       "      <td>1.297053e-19</td>\n",
       "      <td>39</td>\n",
       "      <td>45</td>\n",
       "    </tr>\n",
       "    <tr>\n",
       "      <th>2</th>\n",
       "      <td>25</td>\n",
       "      <td>992602</td>\n",
       "      <td>1</td>\n",
       "      <td>0</td>\n",
       "      <td>0.242424</td>\n",
       "      <td>0.138866</td>\n",
       "      <td>0.440386</td>\n",
       "      <td>21</td>\n",
       "      <td>11</td>\n",
       "      <td>30</td>\n",
       "      <td>...</td>\n",
       "      <td>1.249942e-06</td>\n",
       "      <td>6.286333e-07</td>\n",
       "      <td>0.000790</td>\n",
       "      <td>0.000753</td>\n",
       "      <td>1.054783e-13</td>\n",
       "      <td>6.601673e-14</td>\n",
       "      <td>6.990593e-15</td>\n",
       "      <td>3.079403e-15</td>\n",
       "      <td>231</td>\n",
       "      <td>330</td>\n",
       "    </tr>\n",
       "    <tr>\n",
       "      <th>3</th>\n",
       "      <td>61</td>\n",
       "      <td>1408376</td>\n",
       "      <td>1</td>\n",
       "      <td>0</td>\n",
       "      <td>0.315789</td>\n",
       "      <td>0.151523</td>\n",
       "      <td>0.514496</td>\n",
       "      <td>8</td>\n",
       "      <td>7</td>\n",
       "      <td>17</td>\n",
       "      <td>...</td>\n",
       "      <td>6.565506e-07</td>\n",
       "      <td>4.826817e-07</td>\n",
       "      <td>0.000740</td>\n",
       "      <td>0.000736</td>\n",
       "      <td>2.768741e-19</td>\n",
       "      <td>2.050358e-19</td>\n",
       "      <td>6.563911e-21</td>\n",
       "      <td>6.826043e-21</td>\n",
       "      <td>56</td>\n",
       "      <td>136</td>\n",
       "    </tr>\n",
       "    <tr>\n",
       "      <th>4</th>\n",
       "      <td>62</td>\n",
       "      <td>402932</td>\n",
       "      <td>1</td>\n",
       "      <td>0</td>\n",
       "      <td>0.000000</td>\n",
       "      <td>0.149071</td>\n",
       "      <td>0.000000</td>\n",
       "      <td>5</td>\n",
       "      <td>3</td>\n",
       "      <td>3</td>\n",
       "      <td>...</td>\n",
       "      <td>4.097580e-07</td>\n",
       "      <td>8.216330e-07</td>\n",
       "      <td>0.000729</td>\n",
       "      <td>0.000721</td>\n",
       "      <td>3.984634e-18</td>\n",
       "      <td>-0.000000e+00</td>\n",
       "      <td>1.731093e-16</td>\n",
       "      <td>2.732624e-19</td>\n",
       "      <td>15</td>\n",
       "      <td>0</td>\n",
       "    </tr>\n",
       "  </tbody>\n",
       "</table>\n",
       "<p>5 rows × 33 columns</p>\n",
       "</div>"
      ],
      "text/plain": [
       "   source  destination  connected  jaccard_followers  jaccard_followees  \\\n",
       "0       1       690569          1                  0           0.090909   \n",
       "1      18      1003537          1                  0           0.058824   \n",
       "2      25       992602          1                  0           0.242424   \n",
       "3      61      1408376          1                  0           0.315789   \n",
       "4      62       402932          1                  0           0.000000   \n",
       "\n",
       "   cosine_followers  cosine_followees  num_followers_s  num_followers_d  \\\n",
       "0          0.039817          0.251976                3               29   \n",
       "1          0.092450          0.149071               13                3   \n",
       "2          0.138866          0.440386               21               11   \n",
       "3          0.151523          0.514496                8                7   \n",
       "4          0.149071          0.000000                5                3   \n",
       "\n",
       "   num_followees_s  ...   page_rank_s   page_rank_d    katz_s    katz_d  \\\n",
       "0                3  ...  2.979445e-07  3.726469e-06  0.000722  0.000819   \n",
       "1               15  ...  1.111717e-06  3.046637e-07  0.000759  0.000721   \n",
       "2               30  ...  1.249942e-06  6.286333e-07  0.000790  0.000753   \n",
       "3               17  ...  6.565506e-07  4.826817e-07  0.000740  0.000736   \n",
       "4                3  ...  4.097580e-07  8.216330e-07  0.000729  0.000721   \n",
       "\n",
       "         hubs_s        hubs_d  authorities_s  authorities_d  \\\n",
       "0  8.549207e-18  1.690629e-16   3.812413e-18   3.942273e-16   \n",
       "1  1.583866e-17  9.329002e-20   6.343111e-18   1.297053e-19   \n",
       "2  1.054783e-13  6.601673e-14   6.990593e-15   3.079403e-15   \n",
       "3  2.768741e-19  2.050358e-19   6.563911e-21   6.826043e-21   \n",
       "4  3.984634e-18 -0.000000e+00   1.731093e-16   2.732624e-19   \n",
       "\n",
       "   prefer_Attach_followers  prefer_Attach_followees  \n",
       "0                       87                       63  \n",
       "1                       39                       45  \n",
       "2                      231                      330  \n",
       "3                       56                      136  \n",
       "4                       15                        0  \n",
       "\n",
       "[5 rows x 33 columns]"
      ]
     },
     "execution_count": 30,
     "metadata": {},
     "output_type": "execute_result"
    }
   ],
   "source": [
    "#for train dataset\n",
    "nfs=np.array(df_final_train['num_followees_s'])\n",
    "nfd=np.array(df_final_train['num_followees_d'])\n",
    "preferential_followees=[]\n",
    "for i in range(len(nfs)):\n",
    "    preferential_followees.append(nfd[i]*nfs[i])\n",
    "df_final_train['prefer_Attach_followees']= preferential_followees\n",
    "df_final_train.head()"
   ]
  },
  {
   "cell_type": "code",
   "execution_count": 31,
   "id": "09828fb1",
   "metadata": {
    "id": "09828fb1"
   },
   "outputs": [],
   "source": [
    "\n",
    "hdf = HDFStore('storage_sample_stage4.h5')\n",
    "hdf.put('train_df',df_final_train, format='table', data_columns=True)\n",
    "hdf.close()"
   ]
  },
  {
   "cell_type": "code",
   "execution_count": null,
   "id": "f996c3ff",
   "metadata": {
    "id": "f996c3ff"
   },
   "outputs": [],
   "source": []
  },
  {
   "cell_type": "code",
   "execution_count": 32,
   "id": "19ca9f76",
   "metadata": {
    "id": "19ca9f76"
   },
   "outputs": [
    {
     "data": {
      "text/plain": [
       "<pandas.core.groupby.generic.DataFrameGroupBy object at 0x0000019292FF7460>"
      ]
     },
     "execution_count": 32,
     "metadata": {},
     "output_type": "execute_result"
    }
   ],
   "source": [
    "df_final_train.groupby(by=\"connected\")"
   ]
  },
  {
   "cell_type": "code",
   "execution_count": 33,
   "id": "595df6fa",
   "metadata": {},
   "outputs": [
    {
     "data": {
      "text/plain": [
       "0    50153\n",
       "1    49848\n",
       "Name: connected, dtype: int64"
      ]
     },
     "execution_count": 33,
     "metadata": {},
     "output_type": "execute_result"
    }
   ],
   "source": [
    "df_final_train[\"connected\"].value_counts()"
   ]
  },
  {
   "cell_type": "code",
   "execution_count": null,
   "id": "de3d87c2",
   "metadata": {},
   "outputs": [],
   "source": []
  }
 ],
 "metadata": {
  "colab": {
   "name": "3_graph_link_prediction_featurization_Facebook.ipynb",
   "provenance": []
  },
  "kernelspec": {
   "display_name": "Python 3 (ipykernel)",
   "language": "python",
   "name": "python3"
  },
  "language_info": {
   "codemirror_mode": {
    "name": "ipython",
    "version": 3
   },
   "file_extension": ".py",
   "mimetype": "text/x-python",
   "name": "python",
   "nbconvert_exporter": "python",
   "pygments_lexer": "ipython3",
   "version": "3.9.7"
  },
  "latex_envs": {
   "LaTeX_envs_menu_present": true,
   "autoclose": false,
   "autocomplete": true,
   "bibliofile": "biblio.bib",
   "cite_by": "apalike",
   "current_citInitial": 1,
   "eqLabelWithNumbers": true,
   "eqNumInitial": 1,
   "hotkeys": {
    "equation": "Ctrl-E",
    "itemize": "Ctrl-I"
   },
   "labels_anchors": false,
   "latex_user_defs": false,
   "report_style_numbering": false,
   "user_envs_cfg": false
  }
 },
 "nbformat": 4,
 "nbformat_minor": 5
}
