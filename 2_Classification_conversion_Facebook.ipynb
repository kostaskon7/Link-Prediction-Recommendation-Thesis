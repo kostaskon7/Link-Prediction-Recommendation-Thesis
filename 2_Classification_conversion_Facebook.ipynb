{
 "cells": [
  {
   "cell_type": "markdown",
   "id": "9be74c19",
   "metadata": {},
   "source": [
    "# Converting to classification problem "
   ]
  },
  {
   "cell_type": "markdown",
   "id": "a15d7fdd",
   "metadata": {},
   "source": [
    "Generated Bad links from graph which are not in graph and whose shortest path is greater than 2. "
   ]
  },
  {
   "cell_type": "code",
   "execution_count": 1,
   "id": "1969f80a",
   "metadata": {},
   "outputs": [],
   "source": [
    "import warnings\n",
    "warnings.filterwarnings(\"ignore\")\n",
    "\n",
    "import csv\n",
    "import pandas as pd\n",
    "import datetime \n",
    "import time \n",
    "import numpy as np\n",
    "import matplotlib\n",
    "import matplotlib.pylab as plt\n",
    "import seaborn as sns#Plots\n",
    "from matplotlib import rcParams\n",
    "from sklearn.cluster import MiniBatchKMeans, KMeans\n",
    "import math\n",
    "import pickle\n",
    "import os\n",
    "#!pip install xgboost\n",
    "import xgboost as xgb\n",
    "\n",
    "import warnings\n",
    "import networkx as nx\n",
    "import pdb\n",
    "import pickle\n",
    "import random as rnd\n",
    "\n",
    "\n",
    "from sklearn.model_selection import train_test_split"
   ]
  },
  {
   "cell_type": "code",
   "execution_count": 2,
   "id": "49fb6776",
   "metadata": {},
   "outputs": [],
   "source": [
    "connections=9437519\n",
    "nodes=1862220"
   ]
  },
  {
   "cell_type": "code",
   "execution_count": 3,
   "id": "fca1ee5a",
   "metadata": {},
   "outputs": [
    {
     "name": "stdout",
     "output_type": "stream",
     "text": [
      "Wall time: 44.5 s\n"
     ]
    }
   ],
   "source": [
    "%%time\n",
    "if not os.path.isfile('Bad_connections.p'):\n",
    "    r = csv.reader(open('train.csv','r'))\n",
    "    edges = dict()\n",
    "    for edge in r:\n",
    "        edges[(edge[0], edge[1])] = 1\n",
    "        \n",
    "        \n",
    "    bad_edges_set = set([])\n",
    "    while (len(bad_edges_set)< connections):\n",
    "        s_node=rnd.randint(1,nodes)\n",
    "        d_node=rnd.randint(1,nodes)\n",
    "        tmp = edges.get((s_node,d_node),0)\n",
    "        if tmp == 0 and s_node!=d_node:\n",
    "            try:\n",
    "                if nx.shortest_path_length(g,source=s_node,target=d_node) > 2: \n",
    "\n",
    "                    bad_edges_set.add((s_node,d_node))\n",
    "                else:\n",
    "                    continue  \n",
    "            except:  \n",
    "                    bad_edges_set.add((s_node,d_node))              \n",
    "        else:\n",
    "            continue\n",
    "    pickle.dump(bad_edges_set,open('Bad_connections.p','wb'))\n",
    "else:\n",
    "    bad_edges_set = pickle.load(open('Bad_connections.p','rb'))"
   ]
  },
  {
   "cell_type": "code",
   "execution_count": 4,
   "id": "bf10917f",
   "metadata": {},
   "outputs": [
    {
     "data": {
      "text/plain": [
       "9437519"
      ]
     },
     "execution_count": 4,
     "metadata": {},
     "output_type": "execute_result"
    }
   ],
   "source": [
    "bad_edges_set = pickle.load(open('Bad_connections.p','rb'))\n",
    "len(bad_edges_set)"
   ]
  },
  {
   "cell_type": "markdown",
   "id": "1d04e79f",
   "metadata": {},
   "source": [
    "## Splitting positive and negative connections"
   ]
  },
  {
   "cell_type": "code",
   "execution_count": 5,
   "id": "45afe879",
   "metadata": {},
   "outputs": [
    {
     "name": "stdout",
     "output_type": "stream",
     "text": [
      "Good edges in graph =  9437519\n",
      "Bad edges in graph =  9437519\n"
     ]
    }
   ],
   "source": [
    "if (not os.path.isfile('Good_edges.csv')):\n",
    "    Good_edges = pd.read_csv('train.csv',usecols=[0,1], names=['source', 'destination'], header=None)\n",
    "    Bad_edges = pd.DataFrame(list(bad_edges_set), columns=['source', 'destination'])\n",
    "\n",
    "    y_train_pos=np.ones(len(Good_edges))\n",
    "    y_train_neg=np.zeros(len(Bad_edges))\n",
    "    \n",
    "    print(\"Good edges in graph = \", Good_edges.shape[0])\n",
    "    print(\"Bad edges in graph = \", Bad_edges.shape[0])\n",
    "\n",
    "    #saving\n",
    "    Bad_edges.to_csv('Bad_edges.csv',header=False, index=False)\n",
    "else:\n",
    "    #Graph from Traing data only \n",
    "    print('deleting ........')\n",
    "    del bad_edges_set"
   ]
  },
  {
   "cell_type": "code",
   "execution_count": 6,
   "id": "ce156476",
   "metadata": {},
   "outputs": [],
   "source": [
    "#final train and test data sets\n",
    "if (not os.path.isfile('Classification.csv')):\n",
    "    \n",
    "    Good_edges = pd.read_csv('train.csv',usecols=[0,1], names=['source', 'destination'], header=None)\n",
    "    Bad_edges = pd.read_csv('Bad_edges.csv', names=['source', 'destination'])\n",
    "\n",
    "\n",
    "    X_train = Good_edges.append(Bad_edges,ignore_index=True)\n",
    "    y_train = np.concatenate((y_train_pos,y_train_neg))\n",
    "\n",
    "    \n",
    "    X_train.to_csv('Classification.csv',header=False,index=False)\n",
    "    pd.DataFrame(y_train.astype(int)).to_csv('train_y.csv',header=False,index=False)"
   ]
  },
  {
   "cell_type": "code",
   "execution_count": null,
   "id": "c2317562",
   "metadata": {},
   "outputs": [],
   "source": []
  }
 ],
 "metadata": {
  "kernelspec": {
   "display_name": "Python 3 (ipykernel)",
   "language": "python",
   "name": "python3"
  },
  "language_info": {
   "codemirror_mode": {
    "name": "ipython",
    "version": 3
   },
   "file_extension": ".py",
   "mimetype": "text/x-python",
   "name": "python",
   "nbconvert_exporter": "python",
   "pygments_lexer": "ipython3",
   "version": "3.9.7"
  },
  "latex_envs": {
   "LaTeX_envs_menu_present": true,
   "autoclose": false,
   "autocomplete": true,
   "bibliofile": "biblio.bib",
   "cite_by": "apalike",
   "current_citInitial": 1,
   "eqLabelWithNumbers": true,
   "eqNumInitial": 1,
   "hotkeys": {
    "equation": "Ctrl-E",
    "itemize": "Ctrl-I"
   },
   "labels_anchors": false,
   "latex_user_defs": false,
   "report_style_numbering": false,
   "user_envs_cfg": false
  }
 },
 "nbformat": 4,
 "nbformat_minor": 5
}
